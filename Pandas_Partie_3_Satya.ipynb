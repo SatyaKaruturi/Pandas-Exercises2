{
  "nbformat": 4,
  "nbformat_minor": 0,
  "metadata": {
    "colab": {
      "name": "Pandas - Partie 3_Satya.ipynb",
      "provenance": [],
      "collapsed_sections": []
    },
    "kernelspec": {
      "name": "python3",
      "display_name": "Python 3"
    }
  },
  "cells": [
    {
      "cell_type": "markdown",
      "metadata": {
        "id": "vPeraeSVmy3l",
        "colab_type": "text"
      },
      "source": [
        "# Mission 1\n",
        "\n",
        "Affiche les 10 premières lignes du fichier ci-après : http://bit.ly/imdbratings"
      ]
    },
    {
      "cell_type": "code",
      "metadata": {
        "id": "hYiMPyQjnDiX",
        "colab_type": "code",
        "outputId": "deb276f7-f896-4bc4-8b6a-6889aa12062a",
        "colab": {
          "base_uri": "https://localhost:8080/",
          "height": 343
        }
      },
      "source": [
        "import pandas as pd\n",
        "\n",
        "url = \"https://raw.githubusercontent.com/justmarkham/pandas-videos/master/data/imdb_1000.csv\"\n",
        "\n",
        "df = pd.read_csv(url, sep=\",\")\n",
        "\n",
        "df.head(10)"
      ],
      "execution_count": 0,
      "outputs": [
        {
          "output_type": "execute_result",
          "data": {
            "text/html": [
              "<div>\n",
              "<style scoped>\n",
              "    .dataframe tbody tr th:only-of-type {\n",
              "        vertical-align: middle;\n",
              "    }\n",
              "\n",
              "    .dataframe tbody tr th {\n",
              "        vertical-align: top;\n",
              "    }\n",
              "\n",
              "    .dataframe thead th {\n",
              "        text-align: right;\n",
              "    }\n",
              "</style>\n",
              "<table border=\"1\" class=\"dataframe\">\n",
              "  <thead>\n",
              "    <tr style=\"text-align: right;\">\n",
              "      <th></th>\n",
              "      <th>star_rating</th>\n",
              "      <th>title</th>\n",
              "      <th>content_rating</th>\n",
              "      <th>genre</th>\n",
              "      <th>duration</th>\n",
              "      <th>actors_list</th>\n",
              "    </tr>\n",
              "  </thead>\n",
              "  <tbody>\n",
              "    <tr>\n",
              "      <th>0</th>\n",
              "      <td>9.3</td>\n",
              "      <td>The Shawshank Redemption</td>\n",
              "      <td>R</td>\n",
              "      <td>Crime</td>\n",
              "      <td>142</td>\n",
              "      <td>[u'Tim Robbins', u'Morgan Freeman', u'Bob Gunt...</td>\n",
              "    </tr>\n",
              "    <tr>\n",
              "      <th>1</th>\n",
              "      <td>9.2</td>\n",
              "      <td>The Godfather</td>\n",
              "      <td>R</td>\n",
              "      <td>Crime</td>\n",
              "      <td>175</td>\n",
              "      <td>[u'Marlon Brando', u'Al Pacino', u'James Caan']</td>\n",
              "    </tr>\n",
              "    <tr>\n",
              "      <th>2</th>\n",
              "      <td>9.1</td>\n",
              "      <td>The Godfather: Part II</td>\n",
              "      <td>R</td>\n",
              "      <td>Crime</td>\n",
              "      <td>200</td>\n",
              "      <td>[u'Al Pacino', u'Robert De Niro', u'Robert Duv...</td>\n",
              "    </tr>\n",
              "    <tr>\n",
              "      <th>3</th>\n",
              "      <td>9.0</td>\n",
              "      <td>The Dark Knight</td>\n",
              "      <td>PG-13</td>\n",
              "      <td>Action</td>\n",
              "      <td>152</td>\n",
              "      <td>[u'Christian Bale', u'Heath Ledger', u'Aaron E...</td>\n",
              "    </tr>\n",
              "    <tr>\n",
              "      <th>4</th>\n",
              "      <td>8.9</td>\n",
              "      <td>Pulp Fiction</td>\n",
              "      <td>R</td>\n",
              "      <td>Crime</td>\n",
              "      <td>154</td>\n",
              "      <td>[u'John Travolta', u'Uma Thurman', u'Samuel L....</td>\n",
              "    </tr>\n",
              "    <tr>\n",
              "      <th>5</th>\n",
              "      <td>8.9</td>\n",
              "      <td>12 Angry Men</td>\n",
              "      <td>NOT RATED</td>\n",
              "      <td>Drama</td>\n",
              "      <td>96</td>\n",
              "      <td>[u'Henry Fonda', u'Lee J. Cobb', u'Martin Bals...</td>\n",
              "    </tr>\n",
              "    <tr>\n",
              "      <th>6</th>\n",
              "      <td>8.9</td>\n",
              "      <td>The Good, the Bad and the Ugly</td>\n",
              "      <td>NOT RATED</td>\n",
              "      <td>Western</td>\n",
              "      <td>161</td>\n",
              "      <td>[u'Clint Eastwood', u'Eli Wallach', u'Lee Van ...</td>\n",
              "    </tr>\n",
              "    <tr>\n",
              "      <th>7</th>\n",
              "      <td>8.9</td>\n",
              "      <td>The Lord of the Rings: The Return of the King</td>\n",
              "      <td>PG-13</td>\n",
              "      <td>Adventure</td>\n",
              "      <td>201</td>\n",
              "      <td>[u'Elijah Wood', u'Viggo Mortensen', u'Ian McK...</td>\n",
              "    </tr>\n",
              "    <tr>\n",
              "      <th>8</th>\n",
              "      <td>8.9</td>\n",
              "      <td>Schindler's List</td>\n",
              "      <td>R</td>\n",
              "      <td>Biography</td>\n",
              "      <td>195</td>\n",
              "      <td>[u'Liam Neeson', u'Ralph Fiennes', u'Ben Kings...</td>\n",
              "    </tr>\n",
              "    <tr>\n",
              "      <th>9</th>\n",
              "      <td>8.9</td>\n",
              "      <td>Fight Club</td>\n",
              "      <td>R</td>\n",
              "      <td>Drama</td>\n",
              "      <td>139</td>\n",
              "      <td>[u'Brad Pitt', u'Edward Norton', u'Helena Bonh...</td>\n",
              "    </tr>\n",
              "  </tbody>\n",
              "</table>\n",
              "</div>"
            ],
            "text/plain": [
              "   star_rating  ...                                        actors_list\n",
              "0          9.3  ...  [u'Tim Robbins', u'Morgan Freeman', u'Bob Gunt...\n",
              "1          9.2  ...    [u'Marlon Brando', u'Al Pacino', u'James Caan']\n",
              "2          9.1  ...  [u'Al Pacino', u'Robert De Niro', u'Robert Duv...\n",
              "3          9.0  ...  [u'Christian Bale', u'Heath Ledger', u'Aaron E...\n",
              "4          8.9  ...  [u'John Travolta', u'Uma Thurman', u'Samuel L....\n",
              "5          8.9  ...  [u'Henry Fonda', u'Lee J. Cobb', u'Martin Bals...\n",
              "6          8.9  ...  [u'Clint Eastwood', u'Eli Wallach', u'Lee Van ...\n",
              "7          8.9  ...  [u'Elijah Wood', u'Viggo Mortensen', u'Ian McK...\n",
              "8          8.9  ...  [u'Liam Neeson', u'Ralph Fiennes', u'Ben Kings...\n",
              "9          8.9  ...  [u'Brad Pitt', u'Edward Norton', u'Helena Bonh...\n",
              "\n",
              "[10 rows x 6 columns]"
            ]
          },
          "metadata": {
            "tags": []
          },
          "execution_count": 88
        }
      ]
    },
    {
      "cell_type": "markdown",
      "metadata": {
        "id": "us6hXm12WsZR",
        "colab_type": "text"
      },
      "source": [
        "# Mission 2\n",
        "\n",
        "Trie ton dataframe en ordre croissant par rapport à la colonne star_rating"
      ]
    },
    {
      "cell_type": "code",
      "metadata": {
        "id": "zC9bfLr4Wy_z",
        "colab_type": "code",
        "colab": {}
      },
      "source": [
        "\n",
        "df1 = df.sort_values(by = 'star_rating', ascending=True)"
      ],
      "execution_count": 0,
      "outputs": []
    },
    {
      "cell_type": "code",
      "metadata": {
        "id": "4AbNIeR8eAG5",
        "colab_type": "code",
        "outputId": "a398fd01-af9d-4302-8eb7-1475622a18d4",
        "colab": {
          "base_uri": "https://localhost:8080/",
          "height": 195
        }
      },
      "source": [
        "df1.head(5)"
      ],
      "execution_count": 0,
      "outputs": [
        {
          "output_type": "execute_result",
          "data": {
            "text/html": [
              "<div>\n",
              "<style scoped>\n",
              "    .dataframe tbody tr th:only-of-type {\n",
              "        vertical-align: middle;\n",
              "    }\n",
              "\n",
              "    .dataframe tbody tr th {\n",
              "        vertical-align: top;\n",
              "    }\n",
              "\n",
              "    .dataframe thead th {\n",
              "        text-align: right;\n",
              "    }\n",
              "</style>\n",
              "<table border=\"1\" class=\"dataframe\">\n",
              "  <thead>\n",
              "    <tr style=\"text-align: right;\">\n",
              "      <th></th>\n",
              "      <th>star_rating</th>\n",
              "      <th>title</th>\n",
              "      <th>content_rating</th>\n",
              "      <th>genre</th>\n",
              "      <th>duration</th>\n",
              "      <th>actors_list</th>\n",
              "    </tr>\n",
              "  </thead>\n",
              "  <tbody>\n",
              "    <tr>\n",
              "      <th>978</th>\n",
              "      <td>7.4</td>\n",
              "      <td>Wall Street</td>\n",
              "      <td>R</td>\n",
              "      <td>Crime</td>\n",
              "      <td>126</td>\n",
              "      <td>[u'Charlie Sheen', u'Michael Douglas', u'Tamar...</td>\n",
              "    </tr>\n",
              "    <tr>\n",
              "      <th>950</th>\n",
              "      <td>7.4</td>\n",
              "      <td>Bound</td>\n",
              "      <td>R</td>\n",
              "      <td>Crime</td>\n",
              "      <td>108</td>\n",
              "      <td>[u'Jennifer Tilly', u'Gina Gershon', u'Joe Pan...</td>\n",
              "    </tr>\n",
              "    <tr>\n",
              "      <th>949</th>\n",
              "      <td>7.4</td>\n",
              "      <td>Home Alone</td>\n",
              "      <td>PG</td>\n",
              "      <td>Comedy</td>\n",
              "      <td>103</td>\n",
              "      <td>[u'Macaulay Culkin', u'Joe Pesci', u'Daniel St...</td>\n",
              "    </tr>\n",
              "    <tr>\n",
              "      <th>948</th>\n",
              "      <td>7.4</td>\n",
              "      <td>Frances Ha</td>\n",
              "      <td>R</td>\n",
              "      <td>Comedy</td>\n",
              "      <td>86</td>\n",
              "      <td>[u'Greta Gerwig', u'Mickey Sumner', u'Adam Dri...</td>\n",
              "    </tr>\n",
              "    <tr>\n",
              "      <th>947</th>\n",
              "      <td>7.4</td>\n",
              "      <td>Eraserhead</td>\n",
              "      <td>UNRATED</td>\n",
              "      <td>Drama</td>\n",
              "      <td>89</td>\n",
              "      <td>[u'Jack Nance', u'Charlotte Stewart', u'Allen ...</td>\n",
              "    </tr>\n",
              "  </tbody>\n",
              "</table>\n",
              "</div>"
            ],
            "text/plain": [
              "     star_rating  ...                                        actors_list\n",
              "978          7.4  ...  [u'Charlie Sheen', u'Michael Douglas', u'Tamar...\n",
              "950          7.4  ...  [u'Jennifer Tilly', u'Gina Gershon', u'Joe Pan...\n",
              "949          7.4  ...  [u'Macaulay Culkin', u'Joe Pesci', u'Daniel St...\n",
              "948          7.4  ...  [u'Greta Gerwig', u'Mickey Sumner', u'Adam Dri...\n",
              "947          7.4  ...  [u'Jack Nance', u'Charlotte Stewart', u'Allen ...\n",
              "\n",
              "[5 rows x 6 columns]"
            ]
          },
          "metadata": {
            "tags": []
          },
          "execution_count": 90
        }
      ]
    },
    {
      "cell_type": "markdown",
      "metadata": {
        "id": "7ceP79fzWzPs",
        "colab_type": "text"
      },
      "source": [
        "# Mission 3\n",
        "\n",
        "Répond au questions ci-dessous :\n",
        "- Quel est le start-rating médian ?\n",
        "- Quel est le genre le mieux noté ?\n",
        "- Quel est le pourcentage d'apparition de chaque genre de film ?"
      ]
    },
    {
      "cell_type": "code",
      "metadata": {
        "id": "c4fgYcPZav2H",
        "colab_type": "code",
        "outputId": "7b717f66-893e-43c8-998d-8d30c983b3d6",
        "colab": {
          "base_uri": "https://localhost:8080/",
          "height": 34
        }
      },
      "source": [
        "df1.loc[:, \"star_rating\"].median()"
      ],
      "execution_count": 0,
      "outputs": [
        {
          "output_type": "execute_result",
          "data": {
            "text/plain": [
              "7.8"
            ]
          },
          "metadata": {
            "tags": []
          },
          "execution_count": 39
        }
      ]
    },
    {
      "cell_type": "code",
      "metadata": {
        "id": "DuzzXipUhXUi",
        "colab_type": "code",
        "outputId": "72f5f8bd-d0dc-4279-a497-75c28154b9c0",
        "colab": {
          "base_uri": "https://localhost:8080/",
          "height": 521
        }
      },
      "source": [
        "df_rating = df1.groupby(['genre'])\n",
        "\n",
        "df_rating1 = df_rating['star_rating'].mean().reset_index().rename(\n",
        "    columns={'genre':'Genre','star_rating' : 'Mean_Star_rating'})\n",
        "\n",
        "df_rating1"
      ],
      "execution_count": 0,
      "outputs": [
        {
          "output_type": "execute_result",
          "data": {
            "text/html": [
              "<div>\n",
              "<style scoped>\n",
              "    .dataframe tbody tr th:only-of-type {\n",
              "        vertical-align: middle;\n",
              "    }\n",
              "\n",
              "    .dataframe tbody tr th {\n",
              "        vertical-align: top;\n",
              "    }\n",
              "\n",
              "    .dataframe thead th {\n",
              "        text-align: right;\n",
              "    }\n",
              "</style>\n",
              "<table border=\"1\" class=\"dataframe\">\n",
              "  <thead>\n",
              "    <tr style=\"text-align: right;\">\n",
              "      <th></th>\n",
              "      <th>Genre</th>\n",
              "      <th>Mean_Star_rating</th>\n",
              "    </tr>\n",
              "  </thead>\n",
              "  <tbody>\n",
              "    <tr>\n",
              "      <th>0</th>\n",
              "      <td>Action</td>\n",
              "      <td>7.884559</td>\n",
              "    </tr>\n",
              "    <tr>\n",
              "      <th>1</th>\n",
              "      <td>Adventure</td>\n",
              "      <td>7.933333</td>\n",
              "    </tr>\n",
              "    <tr>\n",
              "      <th>2</th>\n",
              "      <td>Animation</td>\n",
              "      <td>7.914516</td>\n",
              "    </tr>\n",
              "    <tr>\n",
              "      <th>3</th>\n",
              "      <td>Biography</td>\n",
              "      <td>7.862338</td>\n",
              "    </tr>\n",
              "    <tr>\n",
              "      <th>4</th>\n",
              "      <td>Comedy</td>\n",
              "      <td>7.822436</td>\n",
              "    </tr>\n",
              "    <tr>\n",
              "      <th>5</th>\n",
              "      <td>Crime</td>\n",
              "      <td>7.916935</td>\n",
              "    </tr>\n",
              "    <tr>\n",
              "      <th>6</th>\n",
              "      <td>Drama</td>\n",
              "      <td>7.902518</td>\n",
              "    </tr>\n",
              "    <tr>\n",
              "      <th>7</th>\n",
              "      <td>Family</td>\n",
              "      <td>7.850000</td>\n",
              "    </tr>\n",
              "    <tr>\n",
              "      <th>8</th>\n",
              "      <td>Fantasy</td>\n",
              "      <td>7.700000</td>\n",
              "    </tr>\n",
              "    <tr>\n",
              "      <th>9</th>\n",
              "      <td>Film-Noir</td>\n",
              "      <td>8.033333</td>\n",
              "    </tr>\n",
              "    <tr>\n",
              "      <th>10</th>\n",
              "      <td>History</td>\n",
              "      <td>8.000000</td>\n",
              "    </tr>\n",
              "    <tr>\n",
              "      <th>11</th>\n",
              "      <td>Horror</td>\n",
              "      <td>7.806897</td>\n",
              "    </tr>\n",
              "    <tr>\n",
              "      <th>12</th>\n",
              "      <td>Mystery</td>\n",
              "      <td>7.975000</td>\n",
              "    </tr>\n",
              "    <tr>\n",
              "      <th>13</th>\n",
              "      <td>Sci-Fi</td>\n",
              "      <td>7.920000</td>\n",
              "    </tr>\n",
              "    <tr>\n",
              "      <th>14</th>\n",
              "      <td>Thriller</td>\n",
              "      <td>7.680000</td>\n",
              "    </tr>\n",
              "    <tr>\n",
              "      <th>15</th>\n",
              "      <td>Western</td>\n",
              "      <td>8.255556</td>\n",
              "    </tr>\n",
              "  </tbody>\n",
              "</table>\n",
              "</div>"
            ],
            "text/plain": [
              "        Genre  Mean_Star_rating\n",
              "0      Action          7.884559\n",
              "1   Adventure          7.933333\n",
              "2   Animation          7.914516\n",
              "3   Biography          7.862338\n",
              "4      Comedy          7.822436\n",
              "5       Crime          7.916935\n",
              "6       Drama          7.902518\n",
              "7      Family          7.850000\n",
              "8     Fantasy          7.700000\n",
              "9   Film-Noir          8.033333\n",
              "10    History          8.000000\n",
              "11     Horror          7.806897\n",
              "12    Mystery          7.975000\n",
              "13     Sci-Fi          7.920000\n",
              "14   Thriller          7.680000\n",
              "15    Western          8.255556"
            ]
          },
          "metadata": {
            "tags": []
          },
          "execution_count": 65
        }
      ]
    },
    {
      "cell_type": "code",
      "metadata": {
        "id": "uf05MKAko7C_",
        "colab_type": "code",
        "outputId": "a2422205-aabb-43b4-ca95-a65e239aab27",
        "colab": {
          "base_uri": "https://localhost:8080/",
          "height": 67
        }
      },
      "source": [
        "df_rating1.max()"
      ],
      "execution_count": 0,
      "outputs": [
        {
          "output_type": "execute_result",
          "data": {
            "text/plain": [
              "Genre               Western\n",
              "Mean_Star_rating    8.25556\n",
              "dtype: object"
            ]
          },
          "metadata": {
            "tags": []
          },
          "execution_count": 58
        }
      ]
    },
    {
      "cell_type": "code",
      "metadata": {
        "id": "X_cwQ98zp6u1",
        "colab_type": "code",
        "outputId": "0bb589f0-1015-4247-c374-706a5d6e37d3",
        "colab": {
          "base_uri": "https://localhost:8080/",
          "height": 521
        }
      },
      "source": [
        "df_per = df_rating['genre'].count().reset_index(name=\"count\")\n",
        "   \n",
        "df_per"
      ],
      "execution_count": 0,
      "outputs": [
        {
          "output_type": "execute_result",
          "data": {
            "text/html": [
              "<div>\n",
              "<style scoped>\n",
              "    .dataframe tbody tr th:only-of-type {\n",
              "        vertical-align: middle;\n",
              "    }\n",
              "\n",
              "    .dataframe tbody tr th {\n",
              "        vertical-align: top;\n",
              "    }\n",
              "\n",
              "    .dataframe thead th {\n",
              "        text-align: right;\n",
              "    }\n",
              "</style>\n",
              "<table border=\"1\" class=\"dataframe\">\n",
              "  <thead>\n",
              "    <tr style=\"text-align: right;\">\n",
              "      <th></th>\n",
              "      <th>genre</th>\n",
              "      <th>count</th>\n",
              "    </tr>\n",
              "  </thead>\n",
              "  <tbody>\n",
              "    <tr>\n",
              "      <th>0</th>\n",
              "      <td>Action</td>\n",
              "      <td>136</td>\n",
              "    </tr>\n",
              "    <tr>\n",
              "      <th>1</th>\n",
              "      <td>Adventure</td>\n",
              "      <td>75</td>\n",
              "    </tr>\n",
              "    <tr>\n",
              "      <th>2</th>\n",
              "      <td>Animation</td>\n",
              "      <td>62</td>\n",
              "    </tr>\n",
              "    <tr>\n",
              "      <th>3</th>\n",
              "      <td>Biography</td>\n",
              "      <td>77</td>\n",
              "    </tr>\n",
              "    <tr>\n",
              "      <th>4</th>\n",
              "      <td>Comedy</td>\n",
              "      <td>156</td>\n",
              "    </tr>\n",
              "    <tr>\n",
              "      <th>5</th>\n",
              "      <td>Crime</td>\n",
              "      <td>124</td>\n",
              "    </tr>\n",
              "    <tr>\n",
              "      <th>6</th>\n",
              "      <td>Drama</td>\n",
              "      <td>278</td>\n",
              "    </tr>\n",
              "    <tr>\n",
              "      <th>7</th>\n",
              "      <td>Family</td>\n",
              "      <td>2</td>\n",
              "    </tr>\n",
              "    <tr>\n",
              "      <th>8</th>\n",
              "      <td>Fantasy</td>\n",
              "      <td>1</td>\n",
              "    </tr>\n",
              "    <tr>\n",
              "      <th>9</th>\n",
              "      <td>Film-Noir</td>\n",
              "      <td>3</td>\n",
              "    </tr>\n",
              "    <tr>\n",
              "      <th>10</th>\n",
              "      <td>History</td>\n",
              "      <td>1</td>\n",
              "    </tr>\n",
              "    <tr>\n",
              "      <th>11</th>\n",
              "      <td>Horror</td>\n",
              "      <td>29</td>\n",
              "    </tr>\n",
              "    <tr>\n",
              "      <th>12</th>\n",
              "      <td>Mystery</td>\n",
              "      <td>16</td>\n",
              "    </tr>\n",
              "    <tr>\n",
              "      <th>13</th>\n",
              "      <td>Sci-Fi</td>\n",
              "      <td>5</td>\n",
              "    </tr>\n",
              "    <tr>\n",
              "      <th>14</th>\n",
              "      <td>Thriller</td>\n",
              "      <td>5</td>\n",
              "    </tr>\n",
              "    <tr>\n",
              "      <th>15</th>\n",
              "      <td>Western</td>\n",
              "      <td>9</td>\n",
              "    </tr>\n",
              "  </tbody>\n",
              "</table>\n",
              "</div>"
            ],
            "text/plain": [
              "        genre  count\n",
              "0      Action    136\n",
              "1   Adventure     75\n",
              "2   Animation     62\n",
              "3   Biography     77\n",
              "4      Comedy    156\n",
              "5       Crime    124\n",
              "6       Drama    278\n",
              "7      Family      2\n",
              "8     Fantasy      1\n",
              "9   Film-Noir      3\n",
              "10    History      1\n",
              "11     Horror     29\n",
              "12    Mystery     16\n",
              "13     Sci-Fi      5\n",
              "14   Thriller      5\n",
              "15    Western      9"
            ]
          },
          "metadata": {
            "tags": []
          },
          "execution_count": 68
        }
      ]
    },
    {
      "cell_type": "code",
      "metadata": {
        "id": "hA6zK8L54y5Y",
        "colab_type": "code",
        "outputId": "e4a525dc-81a1-4520-dc5d-d10888d6aeab",
        "colab": {
          "base_uri": "https://localhost:8080/",
          "height": 521
        }
      },
      "source": [
        "df_per[\"percentage\"] = df_per['count']/df_per['count'].sum()*100\n",
        "\n",
        "df_per"
      ],
      "execution_count": 0,
      "outputs": [
        {
          "output_type": "execute_result",
          "data": {
            "text/html": [
              "<div>\n",
              "<style scoped>\n",
              "    .dataframe tbody tr th:only-of-type {\n",
              "        vertical-align: middle;\n",
              "    }\n",
              "\n",
              "    .dataframe tbody tr th {\n",
              "        vertical-align: top;\n",
              "    }\n",
              "\n",
              "    .dataframe thead th {\n",
              "        text-align: right;\n",
              "    }\n",
              "</style>\n",
              "<table border=\"1\" class=\"dataframe\">\n",
              "  <thead>\n",
              "    <tr style=\"text-align: right;\">\n",
              "      <th></th>\n",
              "      <th>genre</th>\n",
              "      <th>count</th>\n",
              "      <th>percentage</th>\n",
              "    </tr>\n",
              "  </thead>\n",
              "  <tbody>\n",
              "    <tr>\n",
              "      <th>0</th>\n",
              "      <td>Action</td>\n",
              "      <td>136</td>\n",
              "      <td>13.891726</td>\n",
              "    </tr>\n",
              "    <tr>\n",
              "      <th>1</th>\n",
              "      <td>Adventure</td>\n",
              "      <td>75</td>\n",
              "      <td>7.660878</td>\n",
              "    </tr>\n",
              "    <tr>\n",
              "      <th>2</th>\n",
              "      <td>Animation</td>\n",
              "      <td>62</td>\n",
              "      <td>6.332993</td>\n",
              "    </tr>\n",
              "    <tr>\n",
              "      <th>3</th>\n",
              "      <td>Biography</td>\n",
              "      <td>77</td>\n",
              "      <td>7.865169</td>\n",
              "    </tr>\n",
              "    <tr>\n",
              "      <th>4</th>\n",
              "      <td>Comedy</td>\n",
              "      <td>156</td>\n",
              "      <td>15.934627</td>\n",
              "    </tr>\n",
              "    <tr>\n",
              "      <th>5</th>\n",
              "      <td>Crime</td>\n",
              "      <td>124</td>\n",
              "      <td>12.665986</td>\n",
              "    </tr>\n",
              "    <tr>\n",
              "      <th>6</th>\n",
              "      <td>Drama</td>\n",
              "      <td>278</td>\n",
              "      <td>28.396323</td>\n",
              "    </tr>\n",
              "    <tr>\n",
              "      <th>7</th>\n",
              "      <td>Family</td>\n",
              "      <td>2</td>\n",
              "      <td>0.204290</td>\n",
              "    </tr>\n",
              "    <tr>\n",
              "      <th>8</th>\n",
              "      <td>Fantasy</td>\n",
              "      <td>1</td>\n",
              "      <td>0.102145</td>\n",
              "    </tr>\n",
              "    <tr>\n",
              "      <th>9</th>\n",
              "      <td>Film-Noir</td>\n",
              "      <td>3</td>\n",
              "      <td>0.306435</td>\n",
              "    </tr>\n",
              "    <tr>\n",
              "      <th>10</th>\n",
              "      <td>History</td>\n",
              "      <td>1</td>\n",
              "      <td>0.102145</td>\n",
              "    </tr>\n",
              "    <tr>\n",
              "      <th>11</th>\n",
              "      <td>Horror</td>\n",
              "      <td>29</td>\n",
              "      <td>2.962206</td>\n",
              "    </tr>\n",
              "    <tr>\n",
              "      <th>12</th>\n",
              "      <td>Mystery</td>\n",
              "      <td>16</td>\n",
              "      <td>1.634321</td>\n",
              "    </tr>\n",
              "    <tr>\n",
              "      <th>13</th>\n",
              "      <td>Sci-Fi</td>\n",
              "      <td>5</td>\n",
              "      <td>0.510725</td>\n",
              "    </tr>\n",
              "    <tr>\n",
              "      <th>14</th>\n",
              "      <td>Thriller</td>\n",
              "      <td>5</td>\n",
              "      <td>0.510725</td>\n",
              "    </tr>\n",
              "    <tr>\n",
              "      <th>15</th>\n",
              "      <td>Western</td>\n",
              "      <td>9</td>\n",
              "      <td>0.919305</td>\n",
              "    </tr>\n",
              "  </tbody>\n",
              "</table>\n",
              "</div>"
            ],
            "text/plain": [
              "        genre  count  percentage\n",
              "0      Action    136   13.891726\n",
              "1   Adventure     75    7.660878\n",
              "2   Animation     62    6.332993\n",
              "3   Biography     77    7.865169\n",
              "4      Comedy    156   15.934627\n",
              "5       Crime    124   12.665986\n",
              "6       Drama    278   28.396323\n",
              "7      Family      2    0.204290\n",
              "8     Fantasy      1    0.102145\n",
              "9   Film-Noir      3    0.306435\n",
              "10    History      1    0.102145\n",
              "11     Horror     29    2.962206\n",
              "12    Mystery     16    1.634321\n",
              "13     Sci-Fi      5    0.510725\n",
              "14   Thriller      5    0.510725\n",
              "15    Western      9    0.919305"
            ]
          },
          "metadata": {
            "tags": []
          },
          "execution_count": 70
        }
      ]
    },
    {
      "cell_type": "markdown",
      "metadata": {
        "id": "jBSACgVcawDb",
        "colab_type": "text"
      },
      "source": [
        "# Mission 4\n",
        "\n",
        "Fait une visualisation avec matplotlib en rapport avec les genre de films. Il s'agira d'un camembert, celui-ci aura une légende et les pourcentages d'apparition de chaque genre."
      ]
    },
    {
      "cell_type": "code",
      "metadata": {
        "id": "_aGM-R7scIFE",
        "colab_type": "code",
        "outputId": "27ab3e93-401f-4487-9b85-af7a1a136c32",
        "colab": {
          "base_uri": "https://localhost:8080/",
          "height": 608
        }
      },
      "source": [
        "import matplotlib.pyplot as plt\n",
        "\n",
        "genre_data = df_per[\"genre\"]\n",
        "count_data = df_per[\"count\"]\n",
        "colors = [\"#1f77b4\", \"#ff7f0e\", \"#2ca02c\", \"#d62728\", \"#8c564b\"]\n",
        "explode = (0, 0, 0, 0, 0, 0, 0.2, 0, 0, 0, 0, 0, 0, 0, 0, 0) \n",
        "\n",
        "plt.figure(figsize=(10,15))\n",
        "\n",
        "plt.pie(count_data, labels=genre_data, explode = explode ,colors=colors, autopct='%1.1f%%', shadow=True, startangle=140)\n",
        "\n",
        "plt.title(\"Most preferred genre\")\n",
        "\n",
        "plt.show()"
      ],
      "execution_count": 0,
      "outputs": [
        {
          "output_type": "display_data",
          "data": {
            "image/png": "[encoded data removed]",
            "text/plain": [
              "<Figure size 720x1080 with 1 Axes>"
            ]
          },
          "metadata": {
            "tags": []
          }
        }
      ]
    },
    {
      "cell_type": "markdown",
      "metadata": {
        "id": "ohjcBsQlcVC4",
        "colab_type": "text"
      },
      "source": [
        "# Mission 5\n",
        "\n",
        "Affiche uniquement les lignes des films du type le moins bien noté en moyenne"
      ]
    },
    {
      "cell_type": "code",
      "metadata": {
        "id": "wY3aU0MCcsMU",
        "colab_type": "code",
        "outputId": "e219f71d-ec5d-4502-9771-a7caba79f566",
        "colab": {
          "base_uri": "https://localhost:8080/",
          "height": 195
        }
      },
      "source": [
        "df_thrill = (df1.loc[df1['genre']==\"Thriller\", :])\n",
        "df_thrill"
      ],
      "execution_count": 0,
      "outputs": [
        {
          "output_type": "execute_result",
          "data": {
            "text/html": [
              "<div>\n",
              "<style scoped>\n",
              "    .dataframe tbody tr th:only-of-type {\n",
              "        vertical-align: middle;\n",
              "    }\n",
              "\n",
              "    .dataframe tbody tr th {\n",
              "        vertical-align: top;\n",
              "    }\n",
              "\n",
              "    .dataframe thead th {\n",
              "        text-align: right;\n",
              "    }\n",
              "</style>\n",
              "<table border=\"1\" class=\"dataframe\">\n",
              "  <thead>\n",
              "    <tr style=\"text-align: right;\">\n",
              "      <th></th>\n",
              "      <th>star_rating</th>\n",
              "      <th>title</th>\n",
              "      <th>content_rating</th>\n",
              "      <th>genre</th>\n",
              "      <th>duration</th>\n",
              "      <th>actors_list</th>\n",
              "    </tr>\n",
              "  </thead>\n",
              "  <tbody>\n",
              "    <tr>\n",
              "      <th>848</th>\n",
              "      <td>7.5</td>\n",
              "      <td>The Man Who Knew Too Much</td>\n",
              "      <td>PG</td>\n",
              "      <td>Thriller</td>\n",
              "      <td>120</td>\n",
              "      <td>[u'James Stewart', u'Doris Day', u'Brenda de B...</td>\n",
              "    </tr>\n",
              "    <tr>\n",
              "      <th>902</th>\n",
              "      <td>7.5</td>\n",
              "      <td>Frenzy</td>\n",
              "      <td>R</td>\n",
              "      <td>Thriller</td>\n",
              "      <td>116</td>\n",
              "      <td>[u'Jon Finch', u'Barry Foster', u'Alec McCowen']</td>\n",
              "    </tr>\n",
              "    <tr>\n",
              "      <th>728</th>\n",
              "      <td>7.6</td>\n",
              "      <td>La piel que habito</td>\n",
              "      <td>R</td>\n",
              "      <td>Thriller</td>\n",
              "      <td>120</td>\n",
              "      <td>[u'Antonio Banderas', u'Elena Anaya', u'Jan Co...</td>\n",
              "    </tr>\n",
              "    <tr>\n",
              "      <th>496</th>\n",
              "      <td>7.8</td>\n",
              "      <td>Misery</td>\n",
              "      <td>R</td>\n",
              "      <td>Thriller</td>\n",
              "      <td>107</td>\n",
              "      <td>[u'James Caan', u'Kathy Bates', u'Richard Farn...</td>\n",
              "    </tr>\n",
              "    <tr>\n",
              "      <th>350</th>\n",
              "      <td>8.0</td>\n",
              "      <td>Shadow of a Doubt</td>\n",
              "      <td>APPROVED</td>\n",
              "      <td>Thriller</td>\n",
              "      <td>108</td>\n",
              "      <td>[u'Teresa Wright', u'Joseph Cotten', u'Macdona...</td>\n",
              "    </tr>\n",
              "  </tbody>\n",
              "</table>\n",
              "</div>"
            ],
            "text/plain": [
              "     star_rating  ...                                        actors_list\n",
              "848          7.5  ...  [u'James Stewart', u'Doris Day', u'Brenda de B...\n",
              "902          7.5  ...   [u'Jon Finch', u'Barry Foster', u'Alec McCowen']\n",
              "728          7.6  ...  [u'Antonio Banderas', u'Elena Anaya', u'Jan Co...\n",
              "496          7.8  ...  [u'James Caan', u'Kathy Bates', u'Richard Farn...\n",
              "350          8.0  ...  [u'Teresa Wright', u'Joseph Cotten', u'Macdona...\n",
              "\n",
              "[5 rows x 6 columns]"
            ]
          },
          "metadata": {
            "tags": []
          },
          "execution_count": 97
        }
      ]
    },
    {
      "cell_type": "markdown",
      "metadata": {
        "id": "Fyt7ErXTcsnJ",
        "colab_type": "text"
      },
      "source": [
        "# Mission 6\n",
        "\n",
        "Affiche les films qui ont une durée supérieure à 200 et dans lesquelles le genre contient la lettre h en miniscule ou majuscule"
      ]
    },
    {
      "cell_type": "code",
      "metadata": {
        "id": "I5MAw7jldSG4",
        "colab_type": "code",
        "outputId": "f2712845-43c2-4445-c154-743195da03f3",
        "colab": {
          "base_uri": "https://localhost:8080/",
          "height": 77
        }
      },
      "source": [
        "df_fill= (df1.loc[(df1['duration'] > 200) & (df1['genre'].str.contains(\"h\",\"H\")), :])\n",
        "\n",
        "df_fill"
      ],
      "execution_count": 0,
      "outputs": [
        {
          "output_type": "execute_result",
          "data": {
            "text/html": [
              "<div>\n",
              "<style scoped>\n",
              "    .dataframe tbody tr th:only-of-type {\n",
              "        vertical-align: middle;\n",
              "    }\n",
              "\n",
              "    .dataframe tbody tr th {\n",
              "        vertical-align: top;\n",
              "    }\n",
              "\n",
              "    .dataframe thead th {\n",
              "        text-align: right;\n",
              "    }\n",
              "</style>\n",
              "<table border=\"1\" class=\"dataframe\">\n",
              "  <thead>\n",
              "    <tr style=\"text-align: right;\">\n",
              "      <th></th>\n",
              "      <th>star_rating</th>\n",
              "      <th>title</th>\n",
              "      <th>content_rating</th>\n",
              "      <th>genre</th>\n",
              "      <th>duration</th>\n",
              "      <th>actors_list</th>\n",
              "    </tr>\n",
              "  </thead>\n",
              "  <tbody>\n",
              "    <tr>\n",
              "      <th>630</th>\n",
              "      <td>7.7</td>\n",
              "      <td>Malcolm X</td>\n",
              "      <td>PG-13</td>\n",
              "      <td>Biography</td>\n",
              "      <td>202</td>\n",
              "      <td>[u'Denzel Washington', u'Angela Bassett', u'De...</td>\n",
              "    </tr>\n",
              "  </tbody>\n",
              "</table>\n",
              "</div>"
            ],
            "text/plain": [
              "     star_rating  ...                                        actors_list\n",
              "630          7.7  ...  [u'Denzel Washington', u'Angela Bassett', u'De...\n",
              "\n",
              "[1 rows x 6 columns]"
            ]
          },
          "metadata": {
            "tags": []
          },
          "execution_count": 120
        }
      ]
    }
  ]
}